{
 "cells": [
  {
   "cell_type": "code",
   "execution_count": 1,
   "metadata": {
    "ExecuteTime": {
     "end_time": "2017-01-19T22:15:46.400969",
     "start_time": "2017-01-19T22:15:46.365846"
    },
    "collapsed": true
   },
   "outputs": [],
   "source": [
    "import urllib2\n",
    "#from BeautifulSoup import BeautifulSoup\n",
    "from bs4 import BeautifulSoup"
   ]
  },
  {
   "cell_type": "markdown",
   "metadata": {},
   "source": [
    "## Scraping one value"
   ]
  },
  {
   "cell_type": "code",
   "execution_count": 4,
   "metadata": {
    "ExecuteTime": {
     "end_time": "2017-01-19T22:38:43.659972",
     "start_time": "2017-01-19T22:38:42.620216"
    },
    "collapsed": false
   },
   "outputs": [
    {
     "data": {
      "text/plain": [
       "u'28'"
      ]
     },
     "execution_count": 4,
     "metadata": {},
     "output_type": "execute_result"
    }
   ],
   "source": [
    "url = \"http://www.wunderground.com/history/airport/KBUF/2016/1/3/DailyHistory.html\"\n",
    "page = urllib2.urlopen(url)\n",
    " \n",
    "# Get temperature from page\n",
    "soup = BeautifulSoup(page, \"html.parser\")\n",
    "# dayTemp = soup.body.nobr.b.string\n",
    "dayTemp = soup.find_all(attrs={\"class\":\"wx-value\"})[0].string \n",
    "dayTemp"
   ]
  },
  {
   "cell_type": "markdown",
   "metadata": {},
   "source": [
    "## Scraping three values"
   ]
  },
  {
   "cell_type": "code",
   "execution_count": 10,
   "metadata": {
    "ExecuteTime": {
     "end_time": "2017-01-19T22:47:01.453111",
     "start_time": "2017-01-19T22:47:00.370369"
    },
    "collapsed": false
   },
   "outputs": [
    {
     "data": {
      "text/plain": [
       "u'29'"
      ]
     },
     "execution_count": 10,
     "metadata": {},
     "output_type": "execute_result"
    }
   ],
   "source": [
    "url = \"http://www.wunderground.com/history/airport/KBUF/2016/1/1/DailyHistory.html\"\n",
    "page = urllib2.urlopen(url)\n",
    " \n",
    "# Get temperature from page\n",
    "soup = BeautifulSoup(page, \"html.parser\")\n",
    "# dayTemp = soup.body.nobr.b.string\n",
    "dayTemp = soup.find_all(attrs={\"class\":\"wx-value\"})[0].string \n",
    "dayTemp"
   ]
  },
  {
   "cell_type": "code",
   "execution_count": 11,
   "metadata": {
    "ExecuteTime": {
     "end_time": "2017-01-19T22:47:04.480788",
     "start_time": "2017-01-19T22:47:03.377801"
    },
    "collapsed": false
   },
   "outputs": [
    {
     "data": {
      "text/plain": [
       "u'30'"
      ]
     },
     "execution_count": 11,
     "metadata": {},
     "output_type": "execute_result"
    }
   ],
   "source": [
    "url = \"http://www.wunderground.com/history/airport/KBUF/2016/1/2/DailyHistory.html\"\n",
    "page = urllib2.urlopen(url)\n",
    " \n",
    "# Get temperature from page\n",
    "soup = BeautifulSoup(page, \"html.parser\")\n",
    "# dayTemp = soup.body.nobr.b.string\n",
    "dayTemp = soup.find_all(attrs={\"class\":\"wx-value\"})[0].string \n",
    "dayTemp"
   ]
  },
  {
   "cell_type": "code",
   "execution_count": 12,
   "metadata": {
    "ExecuteTime": {
     "end_time": "2017-01-19T22:47:07.168098",
     "start_time": "2017-01-19T22:47:06.145454"
    },
    "collapsed": false
   },
   "outputs": [
    {
     "data": {
      "text/plain": [
       "u'28'"
      ]
     },
     "execution_count": 12,
     "metadata": {},
     "output_type": "execute_result"
    }
   ],
   "source": [
    "url = \"http://www.wunderground.com/history/airport/KBUF/2016/1/3/DailyHistory.html\"\n",
    "page = urllib2.urlopen(url)\n",
    " \n",
    "# Get temperature from page\n",
    "soup = BeautifulSoup(page, \"html.parser\")\n",
    "# dayTemp = soup.body.nobr.b.string\n",
    "dayTemp = soup.find_all(attrs={\"class\":\"wx-value\"})[0].string \n",
    "dayTemp"
   ]
  },
  {
   "cell_type": "code",
   "execution_count": 13,
   "metadata": {
    "ExecuteTime": {
     "end_time": "2017-01-19T22:53:30.878687",
     "start_time": "2017-01-19T22:47:19.173136"
    },
    "collapsed": false
   },
   "outputs": [],
   "source": [
    "# Create/open a file called wunder.txt (which will be a comma-delimited file)\n",
    "f = open('wunder-data.txt', 'w')\n",
    " \n",
    "# Iterate through months and day\n",
    "for m in range(1, 13):\n",
    "    for d in range(1, 32):\n",
    " \n",
    "      # Check if already gone through month\n",
    "      if (m == 2 and d > 29):\n",
    "        break\n",
    "      elif (m in [4, 6, 9, 11] and d > 30):\n",
    "        break\n",
    " \n",
    "      # Open wunderground.com url\n",
    "      url = \"http://www.wunderground.com/history/airport/KBUF/2016/\" + str(m) + \"/\" + str(d) + \"/DailyHistory.html\"\n",
    "      page = urllib2.urlopen(url)\n",
    " \n",
    "      # Get temperature from page\n",
    "      soup = BeautifulSoup(page, \"html.parser\")\n",
    "      # dayTemp = soup.body.nobr.b.string\n",
    "      dayTemp = soup.find_all(attrs={\"class\":\"wx-value\"})[0].string \n",
    "      # Format month for timestamp\n",
    "      if len(str(m)) < 2:\n",
    "        mStamp = '0' + str(m)\n",
    "      else:\n",
    "        mStamp = str(m)\n",
    " \n",
    "      # Format day for timestamp\n",
    "      if len(str(d)) < 2:\n",
    "        dStamp = '0' + str(d)\n",
    "      else:\n",
    "        dStamp = str(d)\n",
    " \n",
    "      # Build timestamp\n",
    "      timestamp = '2009' + mStamp + dStamp\n",
    " \n",
    "      # Write timestamp to file\n",
    "      # f.write(timestamp + '\\n')\n",
    "      \n",
    "      # Write temperature to file\n",
    "      #f.write( dayTemp + '\\n')\n",
    "      \n",
    "      # Write timestamp and temperature to file\n",
    "      f.write(timestamp + ',' + dayTemp + '\\n')\n",
    " \n",
    "# Done getting data! Close file.\n",
    "f.close()"
   ]
  }
 ],
 "metadata": {
  "kernelspec": {
   "display_name": "Python 2",
   "language": "python",
   "name": "python2"
  },
  "language_info": {
   "codemirror_mode": {
    "name": "ipython",
    "version": 2
   },
   "file_extension": ".py",
   "mimetype": "text/x-python",
   "name": "python",
   "nbconvert_exporter": "python",
   "pygments_lexer": "ipython2",
   "version": "2.7.12"
  }
 },
 "nbformat": 4,
 "nbformat_minor": 2
}
